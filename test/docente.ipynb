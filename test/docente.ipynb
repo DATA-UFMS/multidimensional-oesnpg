{
 "cells": [
  {
   "cell_type": "code",
   "execution_count": null,
   "id": "09f019ed",
   "metadata": {},
   "outputs": [],
   "source": []
  },
  {
   "cell_type": "code",
   "execution_count": null,
   "id": "ba5fa85b",
   "metadata": {},
   "outputs": [],
   "source": []
  }
 ],
 "metadata": {
  "language_info": {
   "name": "python"
  }
 },
 "nbformat": 4,
 "nbformat_minor": 5
}
