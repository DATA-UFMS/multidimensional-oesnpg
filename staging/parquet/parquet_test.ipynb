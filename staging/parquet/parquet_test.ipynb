{
 "cells": [
  {
   "cell_type": "code",
   "execution_count": 1,
   "id": "27a37df7",
   "metadata": {},
   "outputs": [],
   "source": [
    "import os\n",
    "from dotenv import load_dotenv\n",
    "import pandas as pd\n",
    "\n",
    "pd.set_option('display.max_columns', None)\n",
    "load_dotenv()\n",
    "\n",
    "endpoint   = os.getenv(\"MINIO_ENDPOINT\")\n",
    "bucket     = os.getenv(\"MINIO_BUCKET\")\n",
    "parquet    = os.getenv(\"MINIO_PARQUET_PATH\")\n",
    "access_key = os.getenv(\"MINIO_ACCESS_KEY\")\n",
    "secret_key = os.getenv(\"MINIO_SECRET_KEY\")\n",
    "\n",
    "storage_opts = {\n",
    "    \"key\": access_key,\n",
    "    \"secret\": secret_key,\n",
    "    \"client_kwargs\": {\"endpoint_url\": endpoint},\n",
    "}\n",
    "\n",
    "# Exemplo: abrir o parquet de 2025\n",
    "path = f\"s3://{bucket}/{parquet}/add_producao_2025.parquet\"\n",
    "df = pd.read_parquet(path, storage_options=storage_opts)"
   ]
  },
  {
   "cell_type": "code",
   "execution_count": 2,
   "id": "a5a92c92",
   "metadata": {},
   "outputs": [
    {
     "data": {
      "text/plain": [
       "Index(['an_base', 'id_add_foto_programa', 'id_add_foto_programa_ies',\n",
       "       'cd_programa', 'nm_programa', 'sg_ies', 'nm_ies', 'cd_entidade_capes',\n",
       "       'cd_ies_emec', 'id_add_producao_intelectual', 'id_producao_intelectual',\n",
       "       'nm_producao', 'id_tipo_producao', 'nm_tipo_producao',\n",
       "       'id_subtipo_producao', 'nm_subtipo_producao', 'id_formulario_producao',\n",
       "       'nm_formulario', 'id_add_contexto', 'id_area_concentracao',\n",
       "       'nm_area_concentracao', 'id_linha_pesquisa', 'nm_linha_pesquisa',\n",
       "       'id_projeto', 'nm_projeto', 'dh_inicio_area_conc', 'dh_fim_area_conc',\n",
       "       'dh_inicio_linha', 'dh_fim_linha', 'in_glosa', 'sg_estrato',\n",
       "       'nm_evento_classificacao', 'cd_identificador_veiculo',\n",
       "       'ds_titulo_padronizado', 'in_periodico', 'id_valor_lista'],\n",
       "      dtype='object')"
      ]
     },
     "execution_count": 2,
     "metadata": {},
     "output_type": "execute_result"
    }
   ],
   "source": [
    "df.columns"
   ]
  },
  {
   "cell_type": "code",
   "execution_count": 3,
   "id": "320d4fcf",
   "metadata": {},
   "outputs": [
    {
     "data": {
      "text/html": [
       "<div>\n",
       "<style scoped>\n",
       "    .dataframe tbody tr th:only-of-type {\n",
       "        vertical-align: middle;\n",
       "    }\n",
       "\n",
       "    .dataframe tbody tr th {\n",
       "        vertical-align: top;\n",
       "    }\n",
       "\n",
       "    .dataframe thead th {\n",
       "        text-align: right;\n",
       "    }\n",
       "</style>\n",
       "<table border=\"1\" class=\"dataframe\">\n",
       "  <thead>\n",
       "    <tr style=\"text-align: right;\">\n",
       "      <th></th>\n",
       "      <th>an_base</th>\n",
       "      <th>id_add_foto_programa</th>\n",
       "      <th>id_add_foto_programa_ies</th>\n",
       "      <th>cd_programa</th>\n",
       "      <th>nm_programa</th>\n",
       "      <th>sg_ies</th>\n",
       "      <th>nm_ies</th>\n",
       "      <th>cd_entidade_capes</th>\n",
       "      <th>cd_ies_emec</th>\n",
       "      <th>id_add_producao_intelectual</th>\n",
       "      <th>id_producao_intelectual</th>\n",
       "      <th>nm_producao</th>\n",
       "      <th>id_tipo_producao</th>\n",
       "      <th>nm_tipo_producao</th>\n",
       "      <th>id_subtipo_producao</th>\n",
       "      <th>nm_subtipo_producao</th>\n",
       "      <th>id_formulario_producao</th>\n",
       "      <th>nm_formulario</th>\n",
       "      <th>id_add_contexto</th>\n",
       "      <th>id_area_concentracao</th>\n",
       "      <th>nm_area_concentracao</th>\n",
       "      <th>id_linha_pesquisa</th>\n",
       "      <th>nm_linha_pesquisa</th>\n",
       "      <th>id_projeto</th>\n",
       "      <th>nm_projeto</th>\n",
       "      <th>dh_inicio_area_conc</th>\n",
       "      <th>dh_fim_area_conc</th>\n",
       "      <th>dh_inicio_linha</th>\n",
       "      <th>dh_fim_linha</th>\n",
       "      <th>in_glosa</th>\n",
       "      <th>sg_estrato</th>\n",
       "      <th>nm_evento_classificacao</th>\n",
       "      <th>cd_identificador_veiculo</th>\n",
       "      <th>ds_titulo_padronizado</th>\n",
       "      <th>in_periodico</th>\n",
       "      <th>id_valor_lista</th>\n",
       "    </tr>\n",
       "  </thead>\n",
       "  <tbody>\n",
       "  </tbody>\n",
       "</table>\n",
       "</div>"
      ],
      "text/plain": [
       "Empty DataFrame\n",
       "Columns: [an_base, id_add_foto_programa, id_add_foto_programa_ies, cd_programa, nm_programa, sg_ies, nm_ies, cd_entidade_capes, cd_ies_emec, id_add_producao_intelectual, id_producao_intelectual, nm_producao, id_tipo_producao, nm_tipo_producao, id_subtipo_producao, nm_subtipo_producao, id_formulario_producao, nm_formulario, id_add_contexto, id_area_concentracao, nm_area_concentracao, id_linha_pesquisa, nm_linha_pesquisa, id_projeto, nm_projeto, dh_inicio_area_conc, dh_fim_area_conc, dh_inicio_linha, dh_fim_linha, in_glosa, sg_estrato, nm_evento_classificacao, cd_identificador_veiculo, ds_titulo_padronizado, in_periodico, id_valor_lista]\n",
       "Index: []"
      ]
     },
     "execution_count": 3,
     "metadata": {},
     "output_type": "execute_result"
    }
   ],
   "source": [
    "df"
   ]
  },
  {
   "cell_type": "code",
   "execution_count": 4,
   "id": "beb3ef65",
   "metadata": {},
   "outputs": [
    {
     "name": "stdout",
     "output_type": "stream",
     "text": [
      "Número de linhas: 0\n",
      "Número de colunas: 36\n",
      "Forma (shape): (0, 36)\n",
      "DataFrame vazio: True\n"
     ]
    }
   ],
   "source": [
    "# Verificar informações sobre o DataFrame\n",
    "print(f\"Número de linhas: {len(df)}\")\n",
    "print(f\"Número de colunas: {len(df.columns)}\")\n",
    "print(f\"Forma (shape): {df.shape}\")\n",
    "print(f\"DataFrame vazio: {df.empty}\")"
   ]
  }
 ],
 "metadata": {
  "kernelspec": {
   "display_name": "base",
   "language": "python",
   "name": "python3"
  },
  "language_info": {
   "codemirror_mode": {
    "name": "ipython",
    "version": 3
   },
   "file_extension": ".py",
   "mimetype": "text/x-python",
   "name": "python",
   "nbconvert_exporter": "python",
   "pygments_lexer": "ipython3",
   "version": "3.9.18"
  }
 },
 "nbformat": 4,
 "nbformat_minor": 5
}
