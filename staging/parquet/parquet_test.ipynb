{
 "cells": [
  {
   "cell_type": "code",
   "execution_count": 1,
   "id": "27a37df7",
   "metadata": {},
   "outputs": [],
   "source": [
    "import os\n",
    "from dotenv import load_dotenv\n",
    "import pandas as pd\n",
    "\n",
    "pd.set_option('display.max_columns', None)\n",
    "load_dotenv()\n",
    "\n",
    "endpoint   = os.getenv(\"MINIO_ENDPOINT\")\n",
    "bucket     = os.getenv(\"MINIO_BUCKET\")\n",
    "parquet    = os.getenv(\"MINIO_PARQUET_PATH\")\n",
    "access_key = os.getenv(\"MINIO_ACCESS_KEY\")\n",
    "secret_key = os.getenv(\"MINIO_SECRET_KEY\")\n",
    "\n",
    "storage_opts = {\n",
    "    \"key\": access_key,\n",
    "    \"secret\": secret_key,\n",
    "    \"client_kwargs\": {\"endpoint_url\": endpoint},\n",
    "}\n",
    "\n",
    "# Exemplo: abrir o parquet de 2025\n",
    "path = f\"s3://{bucket}/{parquet}/add_producao_2025.parquet\"\n",
    "df = pd.read_parquet(path, storage_options=storage_opts)"
   ]
  },
  {
   "cell_type": "code",
   "execution_count": 2,
   "id": "a5a92c92",
   "metadata": {},
   "outputs": [
    {
     "data": {
      "text/plain": [
       "Index(['an_base', 'id_add_foto_programa', 'id_add_foto_programa_ies',\n",
       "       'cd_programa', 'nm_programa', 'sg_ies', 'nm_ies', 'cd_entidade_capes',\n",
       "       'cd_ies_emec', 'id_add_producao_intelectual', 'id_producao_intelectual',\n",
       "       'nm_producao', 'id_tipo_producao', 'nm_tipo_producao',\n",
       "       'id_subtipo_producao', 'nm_subtipo_producao', 'id_formulario_producao',\n",
       "       'nm_formulario', 'id_add_contexto', 'id_area_concentracao',\n",
       "       'nm_area_concentracao', 'id_linha_pesquisa', 'nm_linha_pesquisa',\n",
       "       'id_projeto', 'nm_projeto', 'dh_inicio_area_conc', 'dh_fim_area_conc',\n",
       "       'dh_inicio_linha', 'dh_fim_linha', 'in_glosa', 'sg_estrato',\n",
       "       'nm_evento_classificacao', 'cd_identificador_veiculo',\n",
       "       'ds_titulo_padronizado', 'in_periodico', 'id_valor_lista'],\n",
       "      dtype='object')"
      ]
     },
     "execution_count": 2,
     "metadata": {},
     "output_type": "execute_result"
    }
   ],
   "source": [
    "df.columns"
   ]
  },
  {
   "cell_type": "code",
   "execution_count": 3,
   "id": "320d4fcf",
   "metadata": {},
   "outputs": [
    {
     "data": {
      "text/html": [
       "<div>\n",
       "<style scoped>\n",
       "    .dataframe tbody tr th:only-of-type {\n",
       "        vertical-align: middle;\n",
       "    }\n",
       "\n",
       "    .dataframe tbody tr th {\n",
       "        vertical-align: top;\n",
       "    }\n",
       "\n",
       "    .dataframe thead th {\n",
       "        text-align: right;\n",
       "    }\n",
       "</style>\n",
       "<table border=\"1\" class=\"dataframe\">\n",
       "  <thead>\n",
       "    <tr style=\"text-align: right;\">\n",
       "      <th></th>\n",
       "      <th>an_base</th>\n",
       "      <th>id_add_foto_programa</th>\n",
       "      <th>id_add_foto_programa_ies</th>\n",
       "      <th>cd_programa</th>\n",
       "      <th>nm_programa</th>\n",
       "      <th>sg_ies</th>\n",
       "      <th>nm_ies</th>\n",
       "      <th>cd_entidade_capes</th>\n",
       "      <th>cd_ies_emec</th>\n",
       "      <th>id_add_producao_intelectual</th>\n",
       "      <th>id_producao_intelectual</th>\n",
       "      <th>nm_producao</th>\n",
       "      <th>id_tipo_producao</th>\n",
       "      <th>nm_tipo_producao</th>\n",
       "      <th>id_subtipo_producao</th>\n",
       "      <th>nm_subtipo_producao</th>\n",
       "      <th>id_formulario_producao</th>\n",
       "      <th>nm_formulario</th>\n",
       "      <th>id_add_contexto</th>\n",
       "      <th>id_area_concentracao</th>\n",
       "      <th>nm_area_concentracao</th>\n",
       "      <th>id_linha_pesquisa</th>\n",
       "      <th>nm_linha_pesquisa</th>\n",
       "      <th>id_projeto</th>\n",
       "      <th>nm_projeto</th>\n",
       "      <th>dh_inicio_area_conc</th>\n",
       "      <th>dh_fim_area_conc</th>\n",
       "      <th>dh_inicio_linha</th>\n",
       "      <th>dh_fim_linha</th>\n",
       "      <th>in_glosa</th>\n",
       "      <th>sg_estrato</th>\n",
       "      <th>nm_evento_classificacao</th>\n",
       "      <th>cd_identificador_veiculo</th>\n",
       "      <th>ds_titulo_padronizado</th>\n",
       "      <th>in_periodico</th>\n",
       "      <th>id_valor_lista</th>\n",
       "    </tr>\n",
       "  </thead>\n",
       "  <tbody>\n",
       "  </tbody>\n",
       "</table>\n",
       "</div>"
      ],
      "text/plain": [
       "Empty DataFrame\n",
       "Columns: [an_base, id_add_foto_programa, id_add_foto_programa_ies, cd_programa, nm_programa, sg_ies, nm_ies, cd_entidade_capes, cd_ies_emec, id_add_producao_intelectual, id_producao_intelectual, nm_producao, id_tipo_producao, nm_tipo_producao, id_subtipo_producao, nm_subtipo_producao, id_formulario_producao, nm_formulario, id_add_contexto, id_area_concentracao, nm_area_concentracao, id_linha_pesquisa, nm_linha_pesquisa, id_projeto, nm_projeto, dh_inicio_area_conc, dh_fim_area_conc, dh_inicio_linha, dh_fim_linha, in_glosa, sg_estrato, nm_evento_classificacao, cd_identificador_veiculo, ds_titulo_padronizado, in_periodico, id_valor_lista]\n",
       "Index: []"
      ]
     },
     "execution_count": 3,
     "metadata": {},
     "output_type": "execute_result"
    }
   ],
   "source": [
    "df"
   ]
  },
  {
   "cell_type": "code",
   "execution_count": 4,
   "id": "beb3ef65",
   "metadata": {},
   "outputs": [
    {
     "name": "stdout",
     "output_type": "stream",
     "text": [
      "Número de linhas: 0\n",
      "Número de colunas: 36\n",
      "Forma (shape): (0, 36)\n",
      "DataFrame vazio: True\n"
     ]
    }
   ],
   "source": [
    "# Verificar informações sobre o DataFrame\n",
    "print(f\"Número de linhas: {len(df)}\")\n",
    "print(f\"Número de colunas: {len(df.columns)}\")\n",
    "print(f\"Forma (shape): {df.shape}\")\n",
    "print(f\"DataFrame vazio: {df.empty}\")"
   ]
  },
  {
   "cell_type": "code",
   "execution_count": 5,
   "id": "8c1d8ab4",
   "metadata": {},
   "outputs": [
    {
     "name": "stdout",
     "output_type": "stream",
     "text": [
      "Arquivos disponíveis no bucket:\n",
      "  👨‍🏫 add_docentes.parquet\n",
      "  📄 add_producao_2013.parquet\n",
      "  📄 add_producao_2014.parquet\n",
      "  📄 add_producao_2015.parquet\n",
      "  📄 add_producao_2016.parquet\n",
      "  📄 add_producao_2017.parquet\n",
      "  📄 add_producao_2018.parquet\n",
      "  📄 add_producao_2019.parquet\n",
      "  📄 add_producao_2020.parquet\n",
      "  📄 add_producao_2021.parquet\n",
      "  📄 add_producao_2022.parquet\n",
      "  📄 add_producao_2023.parquet\n",
      "  📄 add_producao_2024.parquet\n",
      "  📄 add_producao_2025.parquet\n"
     ]
    }
   ],
   "source": [
    "# Vamos verificar que arquivos existem no bucket MinIO\n",
    "import s3fs\n",
    "\n",
    "# Conectar ao MinIO usando s3fs\n",
    "fs = s3fs.S3FileSystem(\n",
    "    key=access_key,\n",
    "    secret=secret_key,\n",
    "    client_kwargs={\"endpoint_url\": endpoint}\n",
    ")\n",
    "\n",
    "# Listar arquivos no path do parquet\n",
    "parquet_files = fs.ls(f\"{bucket}/{parquet}\")\n",
    "print(\"Arquivos disponíveis no bucket:\")\n",
    "for file in parquet_files:\n",
    "    file_name = file.split('/')[-1]\n",
    "    if 'producao' in file_name.lower():\n",
    "        print(f\"  📄 {file_name}\")\n",
    "    elif 'docente' in file_name.lower():\n",
    "        print(f\"  👨‍🏫 {file_name}\")\n",
    "    else:\n",
    "        print(f\"  📁 {file_name}\")"
   ]
  },
  {
   "cell_type": "code",
   "execution_count": 6,
   "id": "1805bc6b",
   "metadata": {},
   "outputs": [
    {
     "name": "stdout",
     "output_type": "stream",
     "text": [
      "Dados de 2024:\n",
      "Número de linhas: 1164454\n",
      "Número de colunas: 36\n",
      "DataFrame vazio: False\n",
      "\n",
      "Primeiras 3 linhas:\n",
      "   an_base  id_add_foto_programa  id_add_foto_programa_ies    cd_programa  \\\n",
      "0     2024                193860                    257893  33002045013P0   \n",
      "1     2024                194721                    258825  24001015041P6   \n",
      "2     2024                196238                    260787  33002010182P0   \n",
      "\n",
      "                 nm_programa            sg_ies  \\\n",
      "0  ENGENHARIA DE TRANSPORTES    USP-SÃO CARLOS   \n",
      "1       CIÊNCIAS DA NUTRIÇÃO  UFPB-JOÃO PESSOA   \n",
      "2   CIÊNCIAS DA REABILITAÇÃO               USP   \n",
      "\n",
      "                                              nm_ies cd_entidade_capes  \\\n",
      "0      UNIVERSIDADE DE SÃO PAULO - CAMPUS SÃO CARLOS          33002045   \n",
      "1  UNIVERSIDADE FEDERAL DA PARAÍBA - CAMPUS JOÃO ...          24001015   \n",
      "2                          UNIVERSIDADE DE SÃO PAULO          33002010   \n",
      "\n",
      "  cd_ies_emec  id_add_producao_intelectual  id_producao_intelectual  \\\n",
      "0        None                     41356314                 16189785   \n",
      "1     1001624                     41572156                 15196505   \n",
      "2          55                     41996534                 15665930   \n",
      "\n",
      "                                         nm_producao  id_tipo_producao  \\\n",
      "0  GEOCNES: HEALTHCARE MAPPING IN BRAZILIAN CITIE...                 2   \n",
      "1  IMPACT OF SILVER NANOPARTICLES ACTIVE PACKAGIN...                 2   \n",
      "2  REVISOR DE PERIÓDICO: REVISTA GAÚCHA DE ENFERM...                 3   \n",
      "\n",
      "  nm_tipo_producao  id_subtipo_producao  nm_subtipo_producao  \\\n",
      "0    BIBLIOGRÁFICA                   25  ARTIGO EM PERIÓDICO   \n",
      "1    BIBLIOGRÁFICA                   25  ARTIGO EM PERIÓDICO   \n",
      "2          TÉCNICA                   11    SERVIÇOS TÉCNICOS   \n",
      "\n",
      "   id_formulario_producao                        nm_formulario  \\\n",
      "0                       1  BIBLIOGRAFICA - ARTIGO EM PERIÓDICO   \n",
      "1                       1  BIBLIOGRAFICA - ARTIGO EM PERIÓDICO   \n",
      "2                       8          TECNICA - SERVIÇOS TÉCNICOS   \n",
      "\n",
      "   id_add_contexto  id_area_concentracao  \\\n",
      "0        9284221.0               78886.0   \n",
      "1        9331123.0               76385.0   \n",
      "2        9420891.0               78749.0   \n",
      "\n",
      "                           nm_area_concentracao  id_linha_pesquisa  \\\n",
      "0           INFRAESTRUTURA DE TRANSPORTES (INF)           129477.0   \n",
      "1                          CIÊNCIAS DA NUTRIÇÃO           143885.0   \n",
      "2  FISSURAS OROFACIAIS E ANOMALIAS RELACIONADAS           110512.0   \n",
      "\n",
      "                                   nm_linha_pesquisa  id_projeto  \\\n",
      "0                                 GEOMÁTICA APLICADA    519579.0   \n",
      "1  SEGURANÇA, QUALIDADE E FUNCIONALIDADE DE ALIME...         NaN   \n",
      "2                 REABILITAÇÃO - FISSURAS OROFACIAIS    507217.0   \n",
      "\n",
      "                                          nm_projeto dh_inicio_area_conc  \\\n",
      "0  GEOMÁTICA APLICADA NO MONITORAMENTO DA INFRAES...          2012-01-01   \n",
      "1                                               None          2012-01-01   \n",
      "2  Processos educacionais, de incorporação de tec...          2001-10-05   \n",
      "\n",
      "  dh_fim_area_conc dh_inicio_linha dh_fim_linha  in_glosa sg_estrato  \\\n",
      "0              NaT      2018-01-01          NaT         0         A1   \n",
      "1              NaT      2020-01-01          NaT         0         A1   \n",
      "2              NaT      2015-01-01          NaT         0       None   \n",
      "\n",
      "                             nm_evento_classificacao cd_identificador_veiculo  \\\n",
      "0  CLASSIFICAÇÕES DE PERIÓDICOS QUADRIÊNIO 2017-2020                1678-4561   \n",
      "1  CLASSIFICAÇÕES DE PERIÓDICOS QUADRIÊNIO 2017-2020                0956-7135   \n",
      "2                                               None                     None   \n",
      "\n",
      "      ds_titulo_padronizado  in_periodico  id_valor_lista  \n",
      "0  CIÊNCIA & SAÚDE COLETIVA           1.0         35497.0  \n",
      "1              FOOD CONTROL           1.0         11679.0  \n",
      "2                      None           NaN             NaN  \n"
     ]
    }
   ],
   "source": [
    "# Vamos testar um arquivo de 2024 para comparar\n",
    "path_2024 = f\"s3://{bucket}/{parquet}/add_producao_2024.parquet\"\n",
    "df_2024 = pd.read_parquet(path_2024, storage_options=storage_opts)\n",
    "\n",
    "print(\"Dados de 2024:\")\n",
    "print(f\"Número de linhas: {len(df_2024)}\")\n",
    "print(f\"Número de colunas: {len(df_2024.columns)}\")\n",
    "print(f\"DataFrame vazio: {df_2024.empty}\")\n",
    "\n",
    "if not df_2024.empty:\n",
    "    print(f\"\\nPrimeiras 3 linhas:\")\n",
    "    print(df_2024.head(3))"
   ]
  },
  {
   "cell_type": "code",
   "execution_count": 7,
   "id": "54e40e0e",
   "metadata": {},
   "outputs": [
    {
     "name": "stdout",
     "output_type": "stream",
     "text": [
      "Ano 2023:\n",
      "  📊 Linhas: 1,085,440\n",
      "  💾 Tamanho: 147.01 MB\n",
      "  ❓ Vazio: Não\n",
      "\n",
      "Ano 2024:\n",
      "  📊 Linhas: 1,164,454\n",
      "  💾 Tamanho: 161.20 MB\n",
      "  ❓ Vazio: Não\n",
      "\n",
      "Ano 2025:\n",
      "  📊 Linhas: 0\n",
      "  💾 Tamanho: 0.02 MB\n",
      "  ❓ Vazio: Sim\n",
      "\n"
     ]
    }
   ],
   "source": [
    "# Vamos verificar o tamanho dos arquivos de produção\n",
    "anos_teste = ['2023', '2024', '2025']\n",
    "\n",
    "for ano in anos_teste:\n",
    "    try:\n",
    "        path_ano = f\"s3://{bucket}/{parquet}/add_producao_{ano}.parquet\"\n",
    "        df_ano = pd.read_parquet(path_ano, storage_options=storage_opts)\n",
    "        \n",
    "        # Obter tamanho do arquivo\n",
    "        info = fs.info(f\"{bucket}/{parquet}/add_producao_{ano}.parquet\")\n",
    "        tamanho_mb = info['size'] / (1024 * 1024)\n",
    "        \n",
    "        print(f\"Ano {ano}:\")\n",
    "        print(f\"  📊 Linhas: {len(df_ano):,}\")\n",
    "        print(f\"  💾 Tamanho: {tamanho_mb:.2f} MB\")\n",
    "        print(f\"  ❓ Vazio: {'Sim' if df_ano.empty else 'Não'}\")\n",
    "        print()\n",
    "        \n",
    "    except Exception as e:\n",
    "        print(f\"Erro ao ler {ano}: {e}\")\n",
    "        print()"
   ]
  },
  {
   "cell_type": "code",
   "execution_count": null,
   "id": "0edcdc40",
   "metadata": {},
   "outputs": [],
   "source": [
    "# COMPARAÇÃO: add_docentes vs add_producao para dados de IES\n",
    "print(\"🏛️ ANÁLISE COMPARATIVA: DADOS DE IES\\n\")\n",
    "\n",
    "# 1. Carregar add_docentes.parquet\n",
    "print(\"📚 Carregando add_docentes.parquet...\")\n",
    "path_docentes = f\"s3://{bucket}/{parquet}/add_docentes.parquet\"\n",
    "df_docentes = pd.read_parquet(path_docentes, storage_options=storage_opts)\n",
    "\n",
    "# 2. Usar add_producao_2024.parquet (já carregado como df_2024)\n",
    "print(\"📊 Usando add_producao_2024.parquet...\")\n",
    "\n",
    "print(\"=\" * 60)\n",
    "print(\"📈 ESTATÍSTICAS GERAIS\")\n",
    "print(\"=\" * 60)\n",
    "print(f\"📚 add_docentes   : {len(df_docentes):,} registros\")\n",
    "print(f\"📊 add_producao_2024 : {len(df_2024):,} registros\")\n",
    "print()"
   ]
  }
 ],
 "metadata": {
  "kernelspec": {
   "display_name": "base",
   "language": "python",
   "name": "python3"
  },
  "language_info": {
   "codemirror_mode": {
    "name": "ipython",
    "version": 3
   },
   "file_extension": ".py",
   "mimetype": "text/x-python",
   "name": "python",
   "nbconvert_exporter": "python",
   "pygments_lexer": "ipython3",
   "version": "3.9.18"
  }
 },
 "nbformat": 4,
 "nbformat_minor": 5
}
